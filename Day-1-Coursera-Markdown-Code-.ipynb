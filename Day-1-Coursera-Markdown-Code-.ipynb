{
 "cells": [
  {
   "cell_type": "markdown",
   "id": "8558dc5b-2976-457b-b5f6-82a6045d67be",
   "metadata": {},
   "source": [
    "# Data Science Tools Ecosystem"
   ]
  },
  {
   "cell_type": "markdown",
   "id": "b66c91e4-b283-40cb-a9c1-f6ebbb9788ae",
   "metadata": {},
   "source": [
    "In this notebook, Data Science Tools and Ecosystem are summarized"
   ]
  },
  {
   "cell_type": "markdown",
   "id": "f94514f4-0017-4727-bf5f-fd13aec391b1",
   "metadata": {},
   "source": [
    "\n"
   ]
  },
  {
   "cell_type": "markdown",
   "id": "d41ccb75-b5ab-4709-825f-a20324ce2eee",
   "metadata": {},
   "source": [
    "Some of the popular languages that Data Scientists use are:\n",
    "  1. Python\n",
    "  2. R\n",
    "  3. C++\n",
    "  4. Java"
   ]
  },
  {
   "cell_type": "markdown",
   "id": "57f4166f-97e8-43a2-a74f-b48cb1aa9551",
   "metadata": {},
   "source": [
    "Some of the commonly used libraries used by Data Scientists include:\n",
    "1. NumPy\n",
    "2. Pandas\n",
    "3. Matplotlib\n",
    "4. Seaborn"
   ]
  },
  {
   "cell_type": "markdown",
   "id": "4e2536f5-ba6c-4197-862c-46aef257c993",
   "metadata": {},
   "source": [
    "| Data | Science | Tools |\n",
    "| ---- | ------- | ----- |\n",
    "| 6.0  | 4.0     | 2.0   |\n",
    "| 2.8  | 3.0     | 4.5   |\n",
    "| 3.5  | 4.8     | 9.5   |"
   ]
  },
  {
   "cell_type": "markdown",
   "id": "f7159471-87ec-4a5e-a292-c9dfa3270375",
   "metadata": {},
   "source": [
    "### Below are a few examples of evaluating arithmetic expressions in Python"
   ]
  },
  {
   "cell_type": "code",
   "execution_count": 4,
   "id": "0e1b12a3-aef2-4567-94ad-3276645cffe2",
   "metadata": {},
   "outputs": [
    {
     "name": "stdout",
     "output_type": "stream",
     "text": [
      "17\n"
     ]
    }
   ],
   "source": [
    "#This is a simple arithmetic expression to multiply the add integers\n",
    "arithmetic = (3*4)+5\n",
    "print(arithmetic)"
   ]
  },
  {
   "cell_type": "code",
   "execution_count": 5,
   "id": "f6662557-776c-403c-ae3c-01ff1cfe19e5",
   "metadata": {},
   "outputs": [
    {
     "name": "stdout",
     "output_type": "stream",
     "text": [
      "3.3333333333333335\n"
     ]
    }
   ],
   "source": [
    "# This will convert 200 minutes to hours by dividing by 60\n",
    "hours = 200 / 60\n",
    "print(hours)"
   ]
  },
  {
   "cell_type": "markdown",
   "id": "7b17ece5-8608-45bc-8e85-f5494feba7f2",
   "metadata": {},
   "source": [
    "__*Objectives:*__  \n",
    "  - To understand **Data Science**\n",
    "  - To Know the required languages for Data Science\n",
    "  - To clean Dataset before training the model\n",
    "  - To be able to train a model to make it own predictions\n",
    "  - To be able to predict future happenings"
   ]
  },
  {
   "cell_type": "markdown",
   "id": "82b91dd2-219d-4147-badd-570be306d71a",
   "metadata": {},
   "source": [
    "## Author: Gabriel Douglas Atung"
   ]
  },
  {
   "cell_type": "code",
   "execution_count": null,
   "id": "5d942d04-cdd9-46e5-a592-8a20fe6c2b84",
   "metadata": {},
   "outputs": [],
   "source": []
  }
 ],
 "metadata": {
  "kernelspec": {
   "display_name": "Python 3 (ipykernel)",
   "language": "python",
   "name": "python3"
  },
  "language_info": {
   "codemirror_mode": {
    "name": "ipython",
    "version": 3
   },
   "file_extension": ".py",
   "mimetype": "text/x-python",
   "name": "python",
   "nbconvert_exporter": "python",
   "pygments_lexer": "ipython3",
   "version": "3.10.10"
  }
 },
 "nbformat": 4,
 "nbformat_minor": 5
}
